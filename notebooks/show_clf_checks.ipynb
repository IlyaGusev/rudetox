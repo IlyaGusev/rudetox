{
 "cells": [
  {
   "cell_type": "code",
   "execution_count": null,
   "id": "937bf467",
   "metadata": {},
   "outputs": [],
   "source": [
    "import os\n",
    "from checklist.test_suite import TestSuite\n",
    "\n",
    "suite_path = os.path.join(\"../\", os.getenv(\"CHECKLIST_SUITE\"))\n",
    "suite = TestSuite.from_file(suite_path)\n",
    "suite.summary()"
   ]
  }
 ],
 "metadata": {
  "kernelspec": {
   "display_name": "Python 3 (ipykernel)",
   "language": "python",
   "name": "python3"
  },
  "language_info": {
   "codemirror_mode": {
    "name": "ipython",
    "version": 3
   },
   "file_extension": ".py",
   "mimetype": "text/x-python",
   "name": "python",
   "nbconvert_exporter": "python",
   "pygments_lexer": "ipython3",
   "version": "3.9.4"
  }
 },
 "nbformat": 4,
 "nbformat_minor": 5
}
